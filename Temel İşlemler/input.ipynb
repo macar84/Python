{
 "cells": [
  {
   "cell_type": "code",
   "execution_count": 1,
   "id": "1e6600a9",
   "metadata": {},
   "outputs": [
    {
     "name": "stdout",
     "output_type": "stream",
     "text": [
      "Lütfen bir sayı giriniz.30\n"
     ]
    },
    {
     "data": {
      "text/plain": [
       "'30'"
      ]
     },
     "execution_count": 1,
     "metadata": {},
     "output_type": "execute_result"
    }
   ],
   "source": [
    "input(\"Lütfen bir sayı giriniz.\")"
   ]
  },
  {
   "cell_type": "code",
   "execution_count": 2,
   "id": "f5a9227e",
   "metadata": {},
   "outputs": [
    {
     "name": "stdout",
     "output_type": "stream",
     "text": [
      "Lütfen bir sayı giriniz.25\n",
      "Kullanıcının Girdiği Değer: 25\n"
     ]
    }
   ],
   "source": [
    "a=input(\"Lütfen bir sayı giriniz.\")\n",
    "print(\"Kullanıcının Girdiği Değer:\",a)"
   ]
  },
  {
   "cell_type": "code",
   "execution_count": 3,
   "id": "a552941f",
   "metadata": {},
   "outputs": [
    {
     "name": "stdout",
     "output_type": "stream",
     "text": [
      "1. sınav notu: 45\n",
      "2. sınav notu: 50\n",
      "3. sınav notu: 100\n",
      "Sınav Puanları Toplamı:  195\n",
      "Sınav Ortalamanız:  65.0\n"
     ]
    }
   ],
   "source": [
    "a=int(input(\"1. sınav notu: \"))\n",
    "b=int(input(\"2. sınav notu: \"))\n",
    "c=int(input(\"3. sınav notu: \"))\n",
    "print(\"Sınav Puanları Toplamı: \",a+b+c)\n",
    "print(\"Sınav Ortalamanız: \",(a+b+c)/3)"
   ]
  },
  {
   "cell_type": "code",
   "execution_count": null,
   "id": "c42fd6c5",
   "metadata": {},
   "outputs": [],
   "source": []
  }
 ],
 "metadata": {
  "kernelspec": {
   "display_name": "Python 3 (ipykernel)",
   "language": "python",
   "name": "python3"
  },
  "language_info": {
   "codemirror_mode": {
    "name": "ipython",
    "version": 3
   },
   "file_extension": ".py",
   "mimetype": "text/x-python",
   "name": "python",
   "nbconvert_exporter": "python",
   "pygments_lexer": "ipython3",
   "version": "3.9.13"
  }
 },
 "nbformat": 4,
 "nbformat_minor": 5
}
