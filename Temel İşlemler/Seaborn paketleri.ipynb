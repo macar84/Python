{
 "cells": [
  {
   "cell_type": "code",
   "execution_count": null,
   "id": "08970126",
   "metadata": {},
   "outputs": [],
   "source": [
    "import seaborn as sns\n",
    "iris=sns.load_dataset(\"iris\")\n",
    "print(iris.head(10))"
   ]
  },
  {
   "cell_type": "code",
   "execution_count": 1,
   "id": "36ebf37a",
   "metadata": {},
   "outputs": [
    {
     "name": "stdout",
     "output_type": "stream",
     "text": [
      "    Id,SepalLengthCm,SepalWidthCm,PetalLengthCm,PetalWidthCm,Species\n",
      "0                        1,5.1,3.5,1.4,0.2,Iris-setosa              \n",
      "1                        2,4.9,3.0,1.4,0.2,Iris-setosa              \n",
      "2                        3,4.7,3.2,1.3,0.2,Iris-setosa              \n",
      "3                        4,4.6,3.1,1.5,0.2,Iris-setosa              \n",
      "4                        5,5.0,3.6,1.4,0.2,Iris-setosa              \n",
      "..                                                 ...              \n",
      "145                 146,6.7,3.0,5.2,2.3,Iris-virginica              \n",
      "146                 147,6.3,2.5,5.0,1.9,Iris-virginica              \n",
      "147                 148,6.5,3.0,5.2,2.0,Iris-virginica              \n",
      "148                 149,6.2,3.4,5.4,2.3,Iris-virginica              \n",
      "149                 150,5.9,3.0,5.1,1.8,Iris-virginica              \n",
      "\n",
      "[150 rows x 1 columns]\n"
     ]
    }
   ],
   "source": [
    "import pandas as pd\n",
    "my_dataframe=pd.read_excel('D:\\deneme.xlsx')\n",
    "print(my_dataframe)"
   ]
  },
  {
   "cell_type": "code",
   "execution_count": null,
   "id": "197847ce",
   "metadata": {},
   "outputs": [],
   "source": []
  }
 ],
 "metadata": {
  "kernelspec": {
   "display_name": "Python 3 (ipykernel)",
   "language": "python",
   "name": "python3"
  },
  "language_info": {
   "codemirror_mode": {
    "name": "ipython",
    "version": 3
   },
   "file_extension": ".py",
   "mimetype": "text/x-python",
   "name": "python",
   "nbconvert_exporter": "python",
   "pygments_lexer": "ipython3",
   "version": "3.9.13"
  }
 },
 "nbformat": 4,
 "nbformat_minor": 5
}
