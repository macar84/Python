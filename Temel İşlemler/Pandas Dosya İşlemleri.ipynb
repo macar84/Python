{
 "cells": [
  {
   "cell_type": "code",
   "execution_count": 3,
   "id": "4d638ed9",
   "metadata": {},
   "outputs": [
    {
     "name": "stdout",
     "output_type": "stream",
     "text": [
      "   Sıra     Ad   Soyad   No\n",
      "0     1  ahmet  Dursun  300\n",
      "1     2    Ali      Ak  500\n"
     ]
    }
   ],
   "source": [
    "import pandas as pd\n",
    "my_dataframe=pd.read_excel('D:\\Pandas\\data.xlsx')\n",
    "print(my_dataframe)"
   ]
  },
  {
   "cell_type": "code",
   "execution_count": null,
   "id": "9b93d0a0",
   "metadata": {},
   "outputs": [],
   "source": []
  },
  {
   "cell_type": "code",
   "execution_count": null,
   "id": "8cee07fd",
   "metadata": {},
   "outputs": [],
   "source": []
  }
 ],
 "metadata": {
  "kernelspec": {
   "display_name": "Python 3 (ipykernel)",
   "language": "python",
   "name": "python3"
  },
  "language_info": {
   "codemirror_mode": {
    "name": "ipython",
    "version": 3
   },
   "file_extension": ".py",
   "mimetype": "text/x-python",
   "name": "python",
   "nbconvert_exporter": "python",
   "pygments_lexer": "ipython3",
   "version": "3.9.13"
  }
 },
 "nbformat": 4,
 "nbformat_minor": 5
}
